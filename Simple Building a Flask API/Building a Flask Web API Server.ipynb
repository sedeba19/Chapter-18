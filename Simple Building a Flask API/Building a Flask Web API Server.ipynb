{
 "cells": [
  {
   "cell_type": "code",
   "execution_count": 1,
   "metadata": {},
   "outputs": [
    {
     "data": {
      "text/plain": [
       "'codespaces-b9b32c'"
      ]
     },
     "execution_count": 1,
     "metadata": {},
     "output_type": "execute_result"
    }
   ],
   "source": [
    "import socket\n",
    "hostname = socket.gethostname()\n",
    "hostname"
   ]
  },
  {
   "cell_type": "code",
   "execution_count": 2,
   "metadata": {},
   "outputs": [
    {
     "data": {
      "text/plain": [
       "'127.0.0.1'"
      ]
     },
     "execution_count": 2,
     "metadata": {},
     "output_type": "execute_result"
    }
   ],
   "source": [
    "ip_address = socket.gethostbyname(hostname)\n",
    "ip_address"
   ]
  },
  {
   "cell_type": "code",
   "execution_count": 3,
   "metadata": {},
   "outputs": [
    {
     "name": "stdout",
     "output_type": "stream",
     "text": [
      " * Serving Flask app '__main__'\n",
      " * Debug mode: off\n"
     ]
    },
    {
     "name": "stderr",
     "output_type": "stream",
     "text": [
      "\u001b[31m\u001b[1mWARNING: This is a development server. Do not use it in a production deployment. Use a production WSGI server instead.\u001b[0m\n",
      " * Running on http://127.0.0.1:5000\n",
      "\u001b[33mPress CTRL+C to quit\u001b[0m\n",
      "127.0.0.1 - - [03/Jul/2023 10:19:10] \"GET / HTTP/1.1\" 200 -\n",
      "127.0.0.1 - - [03/Jul/2023 10:19:24] \"GET / HTTP/1.1\" 200 -\n",
      "127.0.0.1 - - [03/Jul/2023 10:19:28] \"GET /foo HTTP/1.1\" 200 -\n",
      "127.0.0.1 - - [03/Jul/2023 10:19:32] \"GET / HTTP/1.1\" 200 -\n",
      "127.0.0.1 - - [03/Jul/2023 10:20:58] \"GET /foo HTTP/1.1\" 200 -\n",
      "127.0.0.1 - - [03/Jul/2023 10:21:02] \"\u001b[33mGET /foo/ HTTP/1.1\u001b[0m\" 404 -\n",
      "127.0.0.1 - - [03/Jul/2023 10:22:03] \"\u001b[33mPOST /foo/ HTTP/1.1\u001b[0m\" 404 -\n",
      "127.0.0.1 - - [03/Jul/2023 10:22:09] \"POST /foo HTTP/1.1\" 200 -\n"
     ]
    },
    {
     "name": "stdout",
     "output_type": "stream",
     "text": [
      " * Serving Flask app '__main__'\n",
      " * Debug mode: off\n"
     ]
    },
    {
     "name": "stderr",
     "output_type": "stream",
     "text": [
      "Permission denied\n"
     ]
    },
    {
     "name": "stdout",
     "output_type": "stream",
     "text": [
      " * Serving Flask app '__main__'\n",
      " * Debug mode: off\n"
     ]
    },
    {
     "name": "stderr",
     "output_type": "stream",
     "text": [
      "Permission denied\n"
     ]
    }
   ],
   "source": [
    "from flask import Flask\n",
    "app = Flask(__name__)\n",
    "\n",
    "@app.route(\"/\")\n",
    "def hello():\n",
    "    return \"Hello Packt!\"\n",
    "\n",
    "@app.route('/foo',methods=['GET', 'POST'])\n",
    "def foo():\n",
    "    return \"Hello Win!\"\n",
    "app.run()\n",
    "\n",
    "import threading\n",
    "flask_thread = threading.Thread(target=app.run, kwargs={'host':'0.0.0.0','port':80})\n",
    "flask_thread.start()\n",
    "import threading\n",
    "flask_thread = threading.Thread(target=app.run, kwargs={'host':'0.0.0.0','port':80})\n",
    "flask_thread.start()"
   ]
  }
 ],
 "metadata": {
  "kernelspec": {
   "display_name": ".venv",
   "language": "python",
   "name": "python3"
  },
  "language_info": {
   "codemirror_mode": {
    "name": "ipython",
    "version": 3
   },
   "file_extension": ".py",
   "mimetype": "text/x-python",
   "name": "python",
   "nbconvert_exporter": "python",
   "pygments_lexer": "ipython3",
   "version": "3.10.8"
  },
  "orig_nbformat": 4
 },
 "nbformat": 4,
 "nbformat_minor": 2
}
